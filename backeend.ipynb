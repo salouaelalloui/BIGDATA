{
 "cells": [
  {
   "cell_type": "code",
   "execution_count": null,
   "id": "1a218c7e",
   "metadata": {},
   "outputs": [],
   "source": [
    "from flask import Flask, request, jsonify\n",
    "from flask_cors import CORS\n",
    "from confluent_kafka import Producer\n",
    "\n",
    "app = Flask(__name__)\n",
    "CORS(app)\n",
    "# Kafka configuration\n",
    "kafka_config = {\n",
    "    'bootstrap.servers': 'localhost:9092',\n",
    "    'client.id': 'flask-kafka-producer'\n",
    "}\n",
    "\n",
    "# Kafka producer\n",
    "kafka_producer = Producer(kafka_config)\n",
    "\n",
    "@app.route('/data', methods=['POST'])\n",
    "def submit_form():\n",
    "    try:\n",
    "        # Get form data from the request\n",
    "        form_data = request.json\n",
    "\n",
    "        # Produce message to Kafka topic\n",
    "        kafka_producer.produce('test_topic', value=str(form_data))\n",
    "        if (form_data['account_manager']==1): \n",
    "            response= 1\n",
    "        else : \n",
    "            response=0\n",
    "\n",
    "        return jsonify({'message': 'Form data submitted successfully', 'responce': response}), 200\n",
    "    except Exception as e:\n",
    "        print(e)\n",
    "        return jsonify({'error': 'Internal Server Error'}), 500\n",
    "\n",
    "if __name__ == '__main__':\n",
    "    app.run(port=5000)"
   ]
  }
 ],
 "metadata": {
  "kernelspec": {
   "display_name": "Python 3 (ipykernel)",
   "language": "python",
   "name": "python3"
  },
  "language_info": {
   "codemirror_mode": {
    "name": "ipython",
    "version": 3
   },
   "file_extension": ".py",
   "mimetype": "text/x-python",
   "name": "python",
   "nbconvert_exporter": "python",
   "pygments_lexer": "ipython3",
   "version": "3.9.13"
  }
 },
 "nbformat": 4,
 "nbformat_minor": 5
}
